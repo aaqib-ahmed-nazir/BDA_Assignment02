{
 "cells": [
  {
   "cell_type": "markdown",
   "metadata": {},
   "source": [
    "# BDA Assignment #2: MapReduce\n",
    "## Data Preprocessing \n"
   ]
  },
  {
   "cell_type": "markdown",
   "metadata": {},
   "source": [
    "#### Group members: \n",
    "Aaqib Ahmed Nazir (i22-1920), \n",
    "Arhum Khan (i22-1967), \n",
    "Ammar Khasif (i22-1968)\n",
    "\n",
    "##### Section: DS-D"
   ]
  },
  {
   "cell_type": "markdown",
   "metadata": {},
   "source": [
    "#### Libraries Useds:"
   ]
  },
  {
   "cell_type": "code",
   "execution_count": 1,
   "metadata": {},
   "outputs": [],
   "source": [
    "import pandas as pd\n",
    "from nltk.corpus import stopwords\n",
    "import string\n",
    "import numpy as np\n",
    "import os \n"
   ]
  },
  {
   "cell_type": "markdown",
   "metadata": {},
   "source": [
    "### Preprocessing Steps\n",
    "##### >Splitting the dataset into chunks of 1000 rows each and saving them as separate files.\n",
    "##### >Applying the following preprocessing steps on each chunk"
   ]
  },
  {
   "cell_type": "code",
   "execution_count": 2,
   "metadata": {},
   "outputs": [],
   "source": [
    "# Loading NLTK stop words\n",
    "stop_words = set(stopwords.words(\"english\"))\n",
    "\n",
    "\n",
    "# Function to preprocess text and remove stopwords\n",
    "def preprocess_and_remove_stopwords(text):\n",
    "    if isinstance(text, str):\n",
    "        text = text.lower()\n",
    "        # Removing punctuation\n",
    "        text = text.translate(str.maketrans(\"\", \"\", string.punctuation))\n",
    "        word_tokens = text.split()\n",
    "        # Removing stopwords and joining the words back together\n",
    "        filtered_text = \" \".join(\n",
    "            [word for word in word_tokens if word not in stop_words]\n",
    "        )\n",
    "        return filtered_text\n",
    "    else:\n",
    "        return np.nan\n",
    "\n",
    "\n",
    "chunk_size = 10000\n",
    "\n",
    "# Reading the dataset in chunks\n",
    "chunk_index = 1\n",
    "for chunk in pd.read_csv(\"Dataset.csv\", chunksize=chunk_size):\n",
    "    # Preprocess\n",
    "    chunk[\"SECTION_TEXT\"] = chunk[\"SECTION_TEXT\"].apply(preprocess_and_remove_stopwords)\n",
    "    # Drop rows with missing values\n",
    "    chunk.dropna(subset=[\"SECTION_TEXT\"], inplace=True)\n",
    "    chunk.to_csv(f\"mini_dataset_{chunk_index}.csv\", index=False)\n",
    "    chunk_index += 1\n",
    "    "
   ]
  },
  {
   "cell_type": "markdown",
   "metadata": {},
   "source": [
    "### Combining the mini datasets into one dataset"
   ]
  },
  {
   "cell_type": "code",
   "execution_count": 3,
   "metadata": {},
   "outputs": [],
   "source": [
    "# Combine all preprocessed chunks into a single DataFrame\n",
    "preprocessed_dfs = []\n",
    "for i in range(1, chunk_index):\n",
    "    preprocessed_dfs.append(pd.read_csv(f'mini_dataset_{i}.csv'))\n",
    "    "
   ]
  },
  {
   "cell_type": "markdown",
   "metadata": {},
   "source": [
    "### Saving the combined dataset"
   ]
  },
  {
   "cell_type": "code",
   "execution_count": 4,
   "metadata": {},
   "outputs": [
    {
     "name": "stdout",
     "output_type": "stream",
     "text": [
      "ARTICLE_ID       0\n",
      "TITLE            0\n",
      "SECTION_TITLE    0\n",
      "SECTION_TEXT     0\n",
      "dtype: int64\n",
      "(4194808, 4)\n"
     ]
    }
   ],
   "source": [
    "# Combine all preprocessed chunks into a single DataFrame\n",
    "combined_df = pd.concat(preprocessed_dfs, ignore_index=True)\n",
    "\n",
    "# droping all the null values\n",
    "combined_df.dropna(inplace=True)\n",
    "print(combined_df.isnull().sum())\n",
    "print(combined_df.shape)\n",
    "\n",
    "combined_df.to_csv('preprocessed_dataset.csv', index=False)\n"
   ]
  },
  {
   "cell_type": "markdown",
   "metadata": {},
   "source": [
    "#### Printing the first 5 rows of the combined dataset"
   ]
  },
  {
   "cell_type": "code",
   "execution_count": 6,
   "metadata": {},
   "outputs": [
    {
     "data": {
      "text/html": [
       "<div>\n",
       "<style scoped>\n",
       "    .dataframe tbody tr th:only-of-type {\n",
       "        vertical-align: middle;\n",
       "    }\n",
       "\n",
       "    .dataframe tbody tr th {\n",
       "        vertical-align: top;\n",
       "    }\n",
       "\n",
       "    .dataframe thead th {\n",
       "        text-align: right;\n",
       "    }\n",
       "</style>\n",
       "<table border=\"1\" class=\"dataframe\">\n",
       "  <thead>\n",
       "    <tr style=\"text-align: right;\">\n",
       "      <th></th>\n",
       "      <th>ARTICLE_ID</th>\n",
       "      <th>TITLE</th>\n",
       "      <th>SECTION_TITLE</th>\n",
       "      <th>SECTION_TEXT</th>\n",
       "    </tr>\n",
       "  </thead>\n",
       "  <tbody>\n",
       "    <tr>\n",
       "      <th>0</th>\n",
       "      <td>0</td>\n",
       "      <td>Anarchism</td>\n",
       "      <td>Introduction</td>\n",
       "      <td>anarchism political philosophy advocates selfg...</td>\n",
       "    </tr>\n",
       "    <tr>\n",
       "      <th>1</th>\n",
       "      <td>0</td>\n",
       "      <td>Anarchism</td>\n",
       "      <td>Etymology and terminology</td>\n",
       "      <td>term anarchism compound word composed word ana...</td>\n",
       "    </tr>\n",
       "    <tr>\n",
       "      <th>2</th>\n",
       "      <td>0</td>\n",
       "      <td>Anarchism</td>\n",
       "      <td>History</td>\n",
       "      <td>origins woodcut diggers document william evera...</td>\n",
       "    </tr>\n",
       "    <tr>\n",
       "      <th>3</th>\n",
       "      <td>0</td>\n",
       "      <td>Anarchism</td>\n",
       "      <td>Anarchist schools of thought</td>\n",
       "      <td>portrait philosopher pierrejoseph proudhon 180...</td>\n",
       "    </tr>\n",
       "    <tr>\n",
       "      <th>4</th>\n",
       "      <td>0</td>\n",
       "      <td>Anarchism</td>\n",
       "      <td>Internal issues and debates</td>\n",
       "      <td>consistent anarchist values controversial subj...</td>\n",
       "    </tr>\n",
       "  </tbody>\n",
       "</table>\n",
       "</div>"
      ],
      "text/plain": [
       "   ARTICLE_ID      TITLE                 SECTION_TITLE  \\\n",
       "0           0  Anarchism                  Introduction   \n",
       "1           0  Anarchism     Etymology and terminology   \n",
       "2           0  Anarchism                       History   \n",
       "3           0  Anarchism  Anarchist schools of thought   \n",
       "4           0  Anarchism   Internal issues and debates   \n",
       "\n",
       "                                        SECTION_TEXT  \n",
       "0  anarchism political philosophy advocates selfg...  \n",
       "1  term anarchism compound word composed word ana...  \n",
       "2  origins woodcut diggers document william evera...  \n",
       "3  portrait philosopher pierrejoseph proudhon 180...  \n",
       "4  consistent anarchist values controversial subj...  "
      ]
     },
     "metadata": {},
     "output_type": "display_data"
    },
    {
     "name": "stdout",
     "output_type": "stream",
     "text": [
      "anarchism political philosophy advocates selfgoverned societies based voluntary institutions often described stateless societies although several authors defined specifically institutions based nonhierarchical free associations anarchism holds state undesirable unnecessary harmful antistatism central anarchism specifically entails opposing authority hierarchical organisation conduct human relations including limited state system anarchism usually considered extreme leftwing ideology much anarchist economics anarchist legal philosophy reflects antiauthoritarian interpretations communism collectivism syndicalism mutualism participatory economics anarchism offer fixed body doctrine single particular world view instead fluxing flowing philosophy many types traditions anarchism exist mutually exclusive anarchist schools thought differ fundamentally supporting anything extreme individualism complete collectivism strains anarchism often divided categories social individualist anarchism similar dual classifications\n"
     ]
    }
   ],
   "source": [
    "display(combined_df.head(5))\n",
    "print(combined_df['SECTION_TEXT'][0])"
   ]
  },
  {
   "cell_type": "markdown",
   "metadata": {},
   "source": [
    "### Deleting the mini datasets to clear up space"
   ]
  },
  {
   "cell_type": "code",
   "execution_count": 10,
   "metadata": {},
   "outputs": [],
   "source": [
    "for i in range(1, chunk_index + 1):\n",
    "    os.remove(f\"mini_dataset_{i}.csv\")\n",
    "    "
   ]
  }
 ],
 "metadata": {
  "kernelspec": {
   "display_name": "Python 3",
   "language": "python",
   "name": "python3"
  },
  "language_info": {
   "codemirror_mode": {
    "name": "ipython",
    "version": 3
   },
   "file_extension": ".py",
   "mimetype": "text/x-python",
   "name": "python",
   "nbconvert_exporter": "python",
   "pygments_lexer": "ipython3",
   "version": "3.12.1"
  }
 },
 "nbformat": 4,
 "nbformat_minor": 2
}
