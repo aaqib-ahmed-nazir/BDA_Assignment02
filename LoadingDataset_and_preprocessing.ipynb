{
   "cells": [
      {
         "cell_type": "markdown",
         "metadata": {},
         "source": [
            "# BDA Assignment #2: MapReduce\n",
            "## Data Preprocessing \n"
         ]
      },
      {
         "cell_type": "markdown",
         "metadata": {},
         "source": [
            "#### Group members: \n",
            "Aaqib Ahmed Nazir (i22-1920), \n",
            "Arhum Khan (i22-1967), \n",
            "Ammar Khasif (i22-1968)\n",
            "\n",
            "##### Section: DS-D"
         ]
      },
      {
         "cell_type": "markdown",
         "metadata": {},
         "source": [
            "#### Libraries Used:"
         ]
      },
      {
         "cell_type": "code",
         "execution_count": 1,
         "metadata": {},
         "outputs": [],
         "source": [
            "import os \n",
            "import string\n",
            "import numpy as np\n",
            "import pandas as pd\n",
            "from langdetect import detect\n",
            "from nltk.corpus import stopwords\n",
            "from nltk.stem import WordNetLemmatizer\n",
            "from nltk.tokenize import word_tokenize\n",
            "import os "
         ]
      },
      {
         "cell_type": "markdown",
         "metadata": {},
         "source": [
            "### Preprocessing Steps\n",
            "##### >Splitting the dataset into chunks of 1000 rows each and saving them as separate files.\n",
            "##### >Applying the following preprocessing steps on each chunk"
         ]
      },
      {
         "cell_type": "code",
         "execution_count": 2,
         "metadata": {},
         "outputs": [],
         "source": [
            "# Loading NLTK stop words\n",
            "stop_words = set(stopwords.words(\"english\"))\n",
            "lemmatizer = WordNetLemmatizer()\n",
            "\n",
            "# Function to preprocess text, remove stopwords, and lemmatize English words\n",
            "def preprocess_remove_stopwords_and_lemmatize(text):\n",
            "    if isinstance(text, str):\n",
            "        text = text.lower()\n",
            "        # Removing punctuation\n",
            "        text = text.translate(str.maketrans(\"\", \"\", string.punctuation))\n",
            "        word_tokens = word_tokenize(text)\n",
            "        # Lemmatizing English words, removing stopwords, and joining the words back together\n",
            "        filtered_text = \" \".join([\n",
            "            lemmatizer.lemmatize(word) if word not in stop_words else word for word in word_tokens\n",
            "        ])\n",
            "        return filtered_text\n",
            "    else:\n",
            "        return np.nan\n",
            "\n",
            "chunk_size = 10000\n",
            "\n",
            "# Reading the dataset in chunks\n",
            "chunk_index = 1\n",
            "for chunk in pd.read_csv(\"Dataset.csv\", chunksize=chunk_size):\n",
            "    # Preprocess, remove stopwords, and lemmatize\n",
            "    chunk[\"SECTION_TEXT\"] = chunk[\"SECTION_TEXT\"].apply(preprocess_remove_stopwords_and_lemmatize)\n",
            "for chunk in pd.read_csv(\"data.csv\", chunksize=chunk_size):\n",
            "    # Preprocess\n",
            "    chunk[\"SECTION_TEXT\"] = chunk[\"SECTION_TEXT\"].apply(preprocess_and_remove_stopwords)\n",
            "    # Drop rows with missing values\n",
            "    chunk.dropna(subset=[\"SECTION_TEXT\"], inplace=True)\n",
            "    chunk.to_csv(f\"mini_dataset_{chunk_index}.csv\", index=False)\n",
            "    chunk_index += 1\n"
         ]
      },
      {
         "cell_type": "markdown",
         "metadata": {},
         "source": [
            "### Combining the mini datasets into one dataset"
         ]
      },
      {
         "cell_type": "code",
         "execution_count": 3,
         "metadata": {},
         "outputs": [],
         "source": [
            "# Combine all preprocessed chunks into a single DataFrame\n",
            "preprocessed_dfs = []\n",
            "for i in range(1, chunk_index):\n",
            "    preprocessed_dfs.append(pd.read_csv(f'mini_dataset_{i}.csv'))\n"
         ]
      },
      {
         "cell_type": "markdown",
         "metadata": {},
         "source": [
            "### Dropping unnecessary columns and saving the dataset"
         ]
      },
      {
         "cell_type": "code",
         "execution_count": 4,
         "metadata": {},
         "outputs": [
            {
               "name": "stdout",
               "output_type": "stream",
               "text": [
                  "ARTICLE_ID       0\n",
                  "TITLE            0\n",
                  "SECTION_TITLE    0\n",
                  "SECTION_TEXT     0\n",
                  "dtype: int64\n",
                  "(4194966, 4)\n"
               ]
            }
         ],
         "source": [
            "# Combine all preprocessed chunks into a single DataFrame\n",
            "combined_df = pd.concat(preprocessed_dfs, ignore_index=True)\n",
            "\n",
            "# dropping all the null values\n",
            "combined_df.dropna(inplace=True)\n",
            "print(combined_df.isnull().sum())\n",
            "print(combined_df.shape)\n"
         ]
      },
      {
         "cell_type": "code",
         "execution_count": 5,
         "metadata": {},
         "outputs": [],
         "source": [
            "combined_df.to_csv('preprocessed_dataset.csv', index=False)"
         ]
      },
      {
         "cell_type": "code",
         "execution_count": 6,
         "metadata": {},
         "outputs": [
            {
               "name": "stdout",
               "output_type": "stream",
               "text": [
                  "  None       None                          None  \\\n",
                  "0    0  Anarchism                  Introduction   \n",
                  "1    0  Anarchism     Etymology and terminology   \n",
                  "2    0  Anarchism                       History   \n",
                  "3    0  Anarchism  Anarchist schools of thought   \n",
                  "4    0  Anarchism   Internal issues and debates   \n",
                  "\n",
                  "                                                None  \n",
                  "0  anarchism political philosophy advocates selfg...  \n",
                  "1  term anarchism compound word composed word ana...  \n",
                  "2  zzorigins woodcut diggers document william eve...  \n",
                  "3  portrait philosopher pierrejoseph proudhon 180...  \n",
                  "4  consistent anarchist values controversial subj...  \n"
               ]
            }
         ],
         "source": [
            "combined_df = pd.read_csv(\"C:\\\\Users\\\\Arhum Khan\\\\Desktop\\\\preprocessed_dataset.csv\")\n",
            "\n",
            "\n",
            "# combined_df = pd.read_csv(\"combined_df.csv\")\n",
            "combined_df.columns = [None] * len(combined_df.columns)\n",
            "\n",
            "# Display the DataFrame\n",
            "print(combined_df.head())\n",
            "\n",
            "# save the preprocessed data\n",
            "combined_df.to_csv(\"combined_df.csv\", index=False)"
         ]
      },
      {
         "cell_type": "markdown",
         "metadata": {},
         "source": [
            "#### Printing the first 5 rows of the combined dataset"
         ]
      },
      {
         "cell_type": "code",
         "execution_count": 6,
         "metadata": {},
         "outputs": [
            {
               "data": {
                  "text/html": [
                     "<div>\n",
                     "<style scoped>\n",
                     "    .dataframe tbody tr th:only-of-type {\n",
                     "        vertical-align: middle;\n",
                     "    }\n",
                     "\n",
                     "    .dataframe tbody tr th {\n",
                     "        vertical-align: top;\n",
                     "    }\n",
                     "\n",
                     "    .dataframe thead th {\n",
                     "        text-align: right;\n",
                     "    }\n",
                     "</style>\n",
                     "<table border=\"1\" class=\"dataframe\">\n",
                     "  <thead>\n",
                     "    <tr style=\"text-align: right;\">\n",
                     "      <th></th>\n",
                     "      <th>ARTICLE_ID</th>\n",
                     "      <th>TITLE</th>\n",
                     "      <th>SECTION_TITLE</th>\n",
                     "      <th>SECTION_TEXT</th>\n",
                     "    </tr>\n",
                     "  </thead>\n",
                     "  <tbody>\n",
                     "    <tr>\n",
                     "      <th>0</th>\n",
                     "      <td>0</td>\n",
                     "      <td>Anarchism</td>\n",
                     "      <td>Introduction</td>\n",
                     "      <td>anarchism is a political philosophy that advoc...</td>\n",
                     "    </tr>\n",
                     "    <tr>\n",
                     "      <th>1</th>\n",
                     "      <td>0</td>\n",
                     "      <td>Anarchism</td>\n",
                     "      <td>Etymology and terminology</td>\n",
                     "      <td>the term anarchism is a compound word composed...</td>\n",
                     "    </tr>\n",
                     "    <tr>\n",
                     "      <th>2</th>\n",
                     "      <td>0</td>\n",
                     "      <td>Anarchism</td>\n",
                     "      <td>History</td>\n",
                     "      <td>origin woodcut from a digger document by willi...</td>\n",
                     "    </tr>\n",
                     "    <tr>\n",
                     "      <th>3</th>\n",
                     "      <td>0</td>\n",
                     "      <td>Anarchism</td>\n",
                     "      <td>Anarchist schools of thought</td>\n",
                     "      <td>portrait of philosopher pierrejoseph proudhon ...</td>\n",
                     "    </tr>\n",
                     "    <tr>\n",
                     "      <th>4</th>\n",
                     "      <td>0</td>\n",
                     "      <td>Anarchism</td>\n",
                     "      <td>Internal issues and debates</td>\n",
                     "      <td>consistent with anarchist value is a controver...</td>\n",
                     "    </tr>\n",
                     "  </tbody>\n",
                     "</table>\n",
                     "</div>"
                  ],
                  "text/plain": [
                     "   ARTICLE_ID      TITLE                 SECTION_TITLE  \\\n",
                     "0           0  Anarchism                  Introduction   \n",
                     "1           0  Anarchism     Etymology and terminology   \n",
                     "2           0  Anarchism                       History   \n",
                     "3           0  Anarchism  Anarchist schools of thought   \n",
                     "4           0  Anarchism   Internal issues and debates   \n",
                     "\n",
                     "                                        SECTION_TEXT  \n",
                     "0  anarchism is a political philosophy that advoc...  \n",
                     "1  the term anarchism is a compound word composed...  \n",
                     "2  origin woodcut from a digger document by willi...  \n",
                     "3  portrait of philosopher pierrejoseph proudhon ...  \n",
                     "4  consistent with anarchist value is a controver...  "
                  ]
               },
               "metadata": {},
               "output_type": "display_data"
            },
            {
               "name": "stdout",
               "output_type": "stream",
               "text": [
                  "anarchism is a political philosophy that advocate selfgoverned society based on voluntary institution these are often described as stateless society although several author have defined them more specifically as institution based on nonhierarchical free association anarchism hold the state to be undesirable unnecessary and harmful while antistatism is central anarchism specifically entail opposing authority or hierarchical organisation in the conduct of all human relation including but not limited to the state system anarchism is usually considered an extreme leftwing ideology and much of anarchist economics and anarchist legal philosophy reflects antiauthoritarian interpretation of communism collectivism syndicalism mutualism or participatory economics anarchism does not offer a fixed body of doctrine from a single particular world view instead fluxing and flowing as a philosophy many type and tradition of anarchism exist not all of which are mutually exclusive anarchist school of thought can differ fundamentally supporting anything from extreme individualism to complete collectivism strain of anarchism have often been divided into the category of social and individualist anarchism or similar dual classification\n"
               ]
            }
         ],
         "source": [
            "display(combined_df.head(5))\n",
            "print(combined_df['SECTION_TEXT'][0])"
         ]
      },
      {
         "cell_type": "markdown",
         "metadata": {},
         "source": [
            "### Deleting the mini datasets to clear up space"
         ]
      },
      {
         "cell_type": "code",
         "execution_count": 7,
         "metadata": {},
         "outputs": [],
         "source": [
            "for i in range(1, chunk_index + 1):\n",
            "    os.remove(f\"mini_dataset_{i}.csv\")\n"
         ]
      }
   ],
   "metadata": {
      "kernelspec": {
         "display_name": "Python 3",
         "language": "python",
         "name": "python3"
      },
      "language_info": {
         "codemirror_mode": {
            "name": "ipython",
            "version": 3
         },
         "file_extension": ".py",
         "mimetype": "text/x-python",
         "name": "python",
         "nbconvert_exporter": "python",
         "pygments_lexer": "ipython3",
         "version": "3.12.1"
      }
   },
   "nbformat": 4,
   "nbformat_minor": 2
}
